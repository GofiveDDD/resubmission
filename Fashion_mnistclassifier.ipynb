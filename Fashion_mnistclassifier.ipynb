{
 "cells": [
  {
   "cell_type": "code",
   "execution_count": 10,
   "metadata": {},
   "outputs": [],
   "source": [
    "import numpy as np\n",
    "import pandas as pd\n",
    "import matplotlib.pyplot as plt\n",
    "import matplotlib.cm as cm\n",
    "from sklearn.model_selection import train_test_split\n",
    "from tensorflow.keras.utils import to_categorical\n",
    "from tensorflow.keras import layers, models, callbacks\n",
    "\n",
    "learning_rate = 1e-4\n",
    "training_iterations = 2500\n",
    "\n",
    "dropout = 0.5\n",
    "batch_size = 50\n",
    "validation_size = 2000\n",
    "\n",
    "Image_to_display = 10\n"
   ]
  },
  {
   "attachments": {},
   "cell_type": "markdown",
   "metadata": {},
   "source": [
    "Dataload"
   ]
  },
  {
   "cell_type": "code",
   "execution_count": 11,
   "metadata": {},
   "outputs": [
    {
     "name": "stdout",
     "output_type": "stream",
     "text": [
      "data60000,785\n",
      "   label  pixel1  pixel2  pixel3  pixel4  pixel5  pixel6  pixel7  pixel8  \\\n",
      "0      2       0       0       0       0       0       0       0       0   \n",
      "1      9       0       0       0       0       0       0       0       0   \n",
      "2      6       0       0       0       0       0       0       0       5   \n",
      "3      0       0       0       0       1       2       0       0       0   \n",
      "4      3       0       0       0       0       0       0       0       0   \n",
      "\n",
      "   pixel9  ...  pixel775  pixel776  pixel777  pixel778  pixel779  pixel780  \\\n",
      "0       0  ...         0         0         0         0         0         0   \n",
      "1       0  ...         0         0         0         0         0         0   \n",
      "2       0  ...         0         0         0        30        43         0   \n",
      "3       0  ...         3         0         0         0         0         1   \n",
      "4       0  ...         0         0         0         0         0         0   \n",
      "\n",
      "   pixel781  pixel782  pixel783  pixel784  \n",
      "0         0         0         0         0  \n",
      "1         0         0         0         0  \n",
      "2         0         0         0         0  \n",
      "3         0         0         0         0  \n",
      "4         0         0         0         0  \n",
      "\n",
      "[5 rows x 785 columns]\n"
     ]
    }
   ],
   "source": [
    "data = pd.read_csv('d:/resubmission/data/fashion-mnist_train.csv')\n",
    "\n",
    "print('data{0[0]},{0[1]}'.format(data.shape))\n",
    "print (data.head())"
   ]
  },
  {
   "attachments": {},
   "cell_type": "markdown",
   "metadata": {},
   "source": [
    "Data preprocessing"
   ]
  },
  {
   "cell_type": "code",
   "execution_count": 12,
   "metadata": {},
   "outputs": [],
   "source": [
    "# The fit function cuts the input training data and validation data according to the specified batch size so that the model can be input batch by batch during the training process.\n",
    "images = data.iloc[:,1:].values\n",
    "images = images.astype(float)\n",
    "\n",
    "images = np.multiply(images, 1.0 / 255.0)\n",
    "\n",
    "image_width = 28\n",
    "image_height = 28\n",
    "\n",
    "#print('images{0[0]},{0[1]}'.format(images.shape))\n",
    "\n",
    "labels = data['label'].values\n",
    "labels_one_hot = to_categorical(labels)\n",
    "labels_count = 10"
   ]
  },
  {
   "attachments": {},
   "cell_type": "markdown",
   "metadata": {},
   "source": [
    "Divide training set and validation set"
   ]
  },
  {
   "cell_type": "code",
   "execution_count": 13,
   "metadata": {},
   "outputs": [],
   "source": [
    "train_images, validation_images, train_labels, validation_labels = train_test_split(images, labels_one_hot, test_size=validation_size)"
   ]
  },
  {
   "attachments": {},
   "cell_type": "markdown",
   "metadata": {},
   "source": [
    "Reshape data"
   ]
  },
  {
   "cell_type": "code",
   "execution_count": 14,
   "metadata": {},
   "outputs": [],
   "source": [
    "train_images = train_images.reshape((-1, 28, 28, 1))\n",
    "validation_images = validation_images.reshape((-1, 28, 28, 1))"
   ]
  },
  {
   "cell_type": "code",
   "execution_count": 15,
   "metadata": {},
   "outputs": [
    {
     "name": "stdout",
     "output_type": "stream",
     "text": [
      "shape of train：(58000, 28)\n",
      "shape of validation：(2000, 28)\n"
     ]
    }
   ],
   "source": [
    "print('shape of train：({}, {})'.format(train_images.shape[0], train_images.shape[1]))\n",
    "print('shape of validation：({}, {})'.format(validation_images.shape[0], validation_images.shape[1]))"
   ]
  },
  {
   "attachments": {},
   "cell_type": "markdown",
   "metadata": {},
   "source": [
    "Visualize an image"
   ]
  },
  {
   "cell_type": "code",
   "execution_count": 16,
   "metadata": {},
   "outputs": [
    {
     "data": {
      "image/png": "[encoded data removed]",
      "text/plain": [
       "<Figure size 640x480 with 1 Axes>"
      ]
     },
     "metadata": {},
     "output_type": "display_data"
    }
   ],
   "source": [
    "def display(img):\n",
    "    one_size = img.reshape(image_width, image_height)\n",
    "\n",
    "    plt.axis('off')\n",
    "    plt.imshow(one_size, cmap=cm.binary)\n",
    "\n",
    "display(images[Image_to_display])\n"
   ]
  },
  {
   "attachments": {},
   "cell_type": "markdown",
   "metadata": {},
   "source": [
    "Define a Conv2D layer"
   ]
  },
  {
   "cell_type": "code",
   "execution_count": 18,
   "metadata": {},
   "outputs": [
    {
     "name": "stdout",
     "output_type": "stream",
     "text": [
      "WARNING:tensorflow:From c:\\Users\\xinkai\\AppData\\Local\\Programs\\Python\\Python310\\lib\\site-packages\\keras\\src\\backend\\tensorflow\\core.py:184: The name tf.placeholder is deprecated. Please use tf.compat.v1.placeholder instead.\n",
      "\n"
     ]
    }
   ],
   "source": [
    "import tensorflow as tf\n",
    "from tensorflow.keras import layers, models\n",
    "\n",
    "\n",
    "class MyConv2D(layers.Layer):\n",
    "    def __init__(self, filters, kernel_size, **kwargs):\n",
    "        super(MyConv2D, self).__init__(**kwargs)\n",
    "        self.filters = filters\n",
    "        self.kernel_size = kernel_size\n",
    "\n",
    "    def build(self, input_shape):\n",
    "        input_channels = input_shape[-1]\n",
    "        self.kernel = self.add_weight(name=\"kernel\", shape=(self.kernel_size, self.kernel_size, input_channels, self.filters))\n",
    "        self.bias = self.add_weight(name=\"bias\", shape=(self.filters,))\n",
    "        super(MyConv2D, self).build(input_shape)\n",
    "\n",
    "    def call(self, inputs):\n",
    "        conv_output = tf.nn.conv2d(inputs, self.kernel, strides=[1, 1, 1, 1], padding='SAME') + self.bias\n",
    "        return tf.nn.relu(conv_output)\n",
    "\n",
    "\n",
    "model = models.Sequential()\n",
    "\n",
    "\n",
    "model.add(layers.InputLayer(input_shape=(28, 28, 1)))\n",
    "model.add(MyConv2D(filters=32, kernel_size=5))\n",
    "model.add(layers.MaxPooling2D(pool_size=(2, 2)))\n",
    "\n",
    "model.add(MyConv2D(filters=64, kernel_size=5))\n",
    "model.add(layers.MaxPooling2D(pool_size=(2, 2)))\n",
    "\n",
    "model.add(layers.Flatten())\n",
    "model.add(layers.Dense(units=1024, activation='relu'))\n",
    "model.add(layers.Dropout(0.5))\n",
    "\n",
    "model.add(layers.Dense(units=labels_count, activation='softmax'))"
   ]
  },
  {
   "attachments": {},
   "cell_type": "markdown",
   "metadata": {},
   "source": [
    "Set learning rate "
   ]
  },
  {
   "cell_type": "code",
   "execution_count": 19,
   "metadata": {},
   "outputs": [],
   "source": [
    "initial_learning_rate = 1e-4\n",
    "lr_schedule = tf.keras.optimizers.schedules.ExponentialDecay(\n",
    "    initial_learning_rate, decay_steps=1000, decay_rate=0.9, staircase=True\n",
    ")\n",
    "optimizer = tf.keras.optimizers.Adam(learning_rate=lr_schedule)"
   ]
  },
  {
   "attachments": {},
   "cell_type": "markdown",
   "metadata": {},
   "source": [
    "Set early stopping"
   ]
  },
  {
   "cell_type": "code",
   "execution_count": 21,
   "metadata": {},
   "outputs": [],
   "source": [
    "early_stopping = callbacks.EarlyStopping(\n",
    "    monitor='val_loss', patience=3, restore_best_weights=True\n",
    ")\n",
    "\n",
    "model_checkpoint = callbacks.ModelCheckpoint(\n",
    "    filepath='d:/resubmission/model_checkpoint.keras',\n",
    "    monitor='val_accuracy',\n",
    "    save_best_only=True\n",
    ")\n",
    "tensorboard_callback = callbacks.TensorBoard(log_dir='/home/s5613008/Final_project/logs', histogram_freq=1)"
   ]
  },
  {
   "cell_type": "code",
   "execution_count": 22,
   "metadata": {},
   "outputs": [],
   "source": [
    "# Before starting training, the fit function will compile the model, including setting the loss function, optimizer and indicators. These settings will be used to calculate losses, optimize model parameters, and evaluate model performance\n",
    "model.compile(optimizer=optimizer, loss=tf.keras.losses.CategoricalCrossentropy(), metrics=['accuracy'])"
   ]
  },
  {
   "attachments": {},
   "cell_type": "markdown",
   "metadata": {},
   "source": [
    "Train model"
   ]
  },
  {
   "cell_type": "code",
   "execution_count": 23,
   "metadata": {},
   "outputs": [
    {
     "name": "stdout",
     "output_type": "stream",
     "text": [
      "[0.6281921863555908, 0.398019015789032, 0.3476901650428772, 0.3201935291290283, 0.29737389087677, 0.28366124629974365, 0.27245697379112244, 0.26265469193458557, 0.2545756995677948, 0.2503875494003296]\n",
      "[0.7726896405220032, 0.8551034331321716, 0.8727068901062012, 0.88398277759552, 0.8927068710327148, 0.8961896300315857, 0.901258647441864, 0.905327558517456, 0.9079138040542603, 0.9092068672180176]\n",
      "[0.4249342978000641, 0.36344996094703674, 0.33525028824806213, 0.3081468641757965, 0.296867698431015, 0.28845852613449097, 0.2746542990207672, 0.2732800245285034, 0.2684880793094635, 0.26505082845687866]\n",
      "[0.8445000052452087, 0.8679999709129333, 0.8769999742507935, 0.8899999856948853, 0.8889999985694885, 0.8949999809265137, 0.9035000205039978, 0.9010000228881836, 0.8985000252723694, 0.8995000123977661]\n"
     ]
    }
   ],
   "source": [
    "# The fit function iterates over the data in each epoch and does the following:\n",
    "# Forward propagation: Perform forward propagation on the input data of each batch, and calculate the output of the model through the network.\n",
    "# Calculate loss: Use the loss function to calculate the error between the model prediction and the true label.\n",
    "# Backpropagation: Using the calculated loss value, the gradient of each parameter to the loss is calculated through the backpropagation algorithm.。\n",
    "# Parameter update: According to the settings of the optimizer, the parameters of the model are updated to minimize the loss. The optimizer updates parameter values based on gradient descent or other optimization algorithms\n",
    "# Recording metrics: At the end of each epoch, the fit function will record the metrics of the training and validation data, such as loss value and accuracy, for subsequent analysis of the model's performance.\n",
    "\n",
    "\n",
    "num_epochs = 10\n",
    "batch_size = 32\n",
    "history = model.fit(\n",
    "    train_images, train_labels, \n",
    "    epochs=num_epochs, batch_size=batch_size, \n",
    "    validation_data=(validation_images, validation_labels),\n",
    "    callbacks=[early_stopping, model_checkpoint, tensorboard_callback],\n",
    "    verbose=0 \n",
    ")\n",
    "print(history.history['loss']) \n",
    "print(history.history['accuracy']) \n",
    "print(history.history['val_loss'])  \n",
    "print(history.history['val_accuracy']) \n",
    "\n",
    "\n",
    "# Early stopping and model saving\n",
    "# At the end of each epoch, the fit function checks whether the early stopping condition is met.\n",
    "#If the validation loss does not improve, early stopping takes effect and training stops early. At the same time, according to the settings of model saving, the best model parameters will be saved."
   ]
  },
  {
   "attachments": {},
   "cell_type": "markdown",
   "metadata": {},
   "source": [
    "Model prediction results"
   ]
  },
  {
   "cell_type": "code",
   "execution_count": 24,
   "metadata": {},
   "outputs": [
    {
     "name": "stdout",
     "output_type": "stream",
     "text": [
      "\u001b[1m1/1\u001b[0m \u001b[32m━━━━━━━━━━━━━━━━━━━━\u001b[0m\u001b[37m\u001b[0m \u001b[1m0s\u001b[0m 36ms/step\n"
     ]
    },
    {
     "data": {
      "image/png": "[encoded data removed]",
      "text/plain": [
       "<Figure size 640x480 with 5 Axes>"
      ]
     },
     "metadata": {},
     "output_type": "display_data"
    }
   ],
   "source": [
    "import numpy as np\n",
    "\n",
    "\n",
    "random_indices = np.random.choice(validation_images.shape[0], size=5, replace=False)\n",
    "sample_images = validation_images[random_indices]\n",
    "\n",
    "predictions = model.predict(sample_images)\n",
    "\n",
    "for i in range(len(sample_images)):\n",
    "    plt.subplot(1, len(sample_images), i+1)\n",
    "    plt.imshow(sample_images[i].reshape(image_width, image_height), cmap=cm.binary)\n",
    "    plt.title(f\"Predicted: {np.argmax(predictions[i])}\")\n",
    "    plt.axis('off')\n",
    "plt.show()"
   ]
  },
  {
   "cell_type": "code",
   "execution_count": 25,
   "metadata": {},
   "outputs": [
    {
     "name": "stdout",
     "output_type": "stream",
     "text": [
      "Test Accuracy: 90.92%\n",
      "Test Loss: 24.96%\n"
     ]
    }
   ],
   "source": [
    "# Load test data\n",
    "test_data = pd.read_csv('d:/resubmission/data/fashion-mnist_test.csv')\n",
    "test_images = test_data.iloc[:,1:].values\n",
    "test_images = test_images.astype(float)\n",
    "test_images = np.multiply(test_images, 1.0 / 255.0)\n",
    "test_labels = test_data['label'].values\n",
    "test_labels_one_hot = to_categorical(test_labels)\n",
    "\n",
    "# Reshape test data\n",
    "test_images = test_images.reshape((-1, 28, 28, 1))\n",
    "\n",
    "# Evaluate model on test data\n",
    "test_loss, test_accuracy = model.evaluate(test_images, test_labels_one_hot, verbose=0)\n",
    "\n",
    "# Display test accuracy and loss percentage\n",
    "print(\"Test Accuracy: {:.2f}%\".format(test_accuracy * 100))\n",
    "print(\"Test Loss: {:.2f}%\".format(test_loss * 100))"
   ]
  }
 ],
 "metadata": {
  "kernelspec": {
   "display_name": "ase-lsystems",
   "language": "python",
   "name": "python3"
  },
  "language_info": {
   "codemirror_mode": {
    "name": "ipython",
    "version": 3
   },
   "file_extension": ".py",
   "mimetype": "text/x-python",
   "name": "python",
   "nbconvert_exporter": "python",
   "pygments_lexer": "ipython3",
   "version": "3.10.9"
  },
  "orig_nbformat": 4
 },
 "nbformat": 4,
 "nbformat_minor": 2
}
